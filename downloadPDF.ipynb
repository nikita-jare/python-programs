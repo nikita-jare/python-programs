{
 "cells": [
  {
   "cell_type": "code",
   "execution_count": 1,
   "id": "b6d227b0-289f-4835-8d4c-d1c81b0c926b",
   "metadata": {},
   "outputs": [],
   "source": [
    "#pdf url\n",
    "url = 'https://www.adobe.com/support/products/enterprise/knowledgecenter/media/c4611_sample_explain.pdf'"
   ]
  },
  {
   "cell_type": "code",
   "execution_count": 13,
   "id": "56582069-8cf8-41c5-9fec-e1200384a4e7",
   "metadata": {},
   "outputs": [],
   "source": [
    "import requests\n",
    "import math\n",
    "from tqdm import tqdm    #tqdm is used to add animations.\n",
    "import time\n",
    "#content = requests.get(url)\n",
    "#content"
   ]
  },
  {
   "cell_type": "code",
   "execution_count": 14,
   "id": "97b3f4bc-7638-47c9-a10e-d427a9969fae",
   "metadata": {},
   "outputs": [],
   "source": [
    "#I want to download data in chunks, and not all at once. So, defining maximum chunk size\n",
    "chunk_size = 15000\n",
    "\n",
    "#stream=True will read data in chunks. Not all at once\n",
    "content = requests.get(url, stream=True)"
   ]
  },
  {
   "cell_type": "code",
   "execution_count": 15,
   "id": "50ff5655-148f-4d83-be81-970b872e683d",
   "metadata": {},
   "outputs": [
    {
     "data": {
      "text/plain": [
       "88226"
      ]
     },
     "execution_count": 15,
     "metadata": {},
     "output_type": "execute_result"
    }
   ],
   "source": [
    "#Get length of content.\n",
    "tot_size = int(content.headers['Content-Length'])\n",
    "tot_size"
   ]
  },
  {
   "cell_type": "code",
   "execution_count": 16,
   "id": "73f22618-516c-402e-8c7d-d540c2ffbc4a",
   "metadata": {},
   "outputs": [
    {
     "data": {
      "text/plain": [
       "{'Last-Modified': 'Wed, 05 Jan 2005 19:56:38 GMT', 'Content-Type': 'application/pdf', 'Content-Length': '88226', 'Server': 'Apache', 'Strict-Transport-Security': 'max-age=86400', 'Content-Security-Policy': 'frame-ancestors *.adobe.com  http://adobe.lookbookhq.com https://adobe.lookbookhq.com http://adobeenterprise.lookbookhq.com https://adobeenterprise.lookbookhq.com', 'Accept-Ranges': 'bytes', 'X-Adobe-Loc': 'an1', 'X-Adobe-Source': '130.109', 'X-Content-Type-Options': 'nosniff', 'Cache-Control': 'max-age=17423', 'Expires': 'Wed, 21 Sep 2022 16:25:35 GMT', 'Date': 'Wed, 21 Sep 2022 11:35:12 GMT', 'Connection': 'keep-alive', 'Server-Timing': 'cdn-cache; desc=HIT, edge; dur=1'}"
      ]
     },
     "execution_count": 16,
     "metadata": {},
     "output_type": "execute_result"
    }
   ],
   "source": [
    "#To check the metadata for the request received. \n",
    "content.headers"
   ]
  },
  {
   "cell_type": "code",
   "execution_count": 17,
   "id": "be83f288-ac84-4a5a-b54b-227b4c3490db",
   "metadata": {},
   "outputs": [
    {
     "data": {
      "text/plain": [
       "6"
      ]
     },
     "execution_count": 17,
     "metadata": {},
     "output_type": "execute_result"
    }
   ],
   "source": [
    "# n is number of times loop needs to run to write chunk_size at a time\n",
    "n = math.ceil(tot_size/chunk_size)\n",
    "n"
   ]
  },
  {
   "cell_type": "code",
   "execution_count": 18,
   "id": "9f9176df-235d-47e2-a4dd-06831e6d5885",
   "metadata": {},
   "outputs": [
    {
     "name": "stderr",
     "output_type": "stream",
     "text": [
      "100%|█████████████████████████| 6/6 [00:03<00:00,  1.97it/s]\n"
     ]
    }
   ],
   "source": [
    "with open(\"./output/out_file.pdf\",\"wb\") as file:\n",
    "    for chunk in tqdm(content.iter_content(chunk_size=chunk_size),total=n, ncols=60):\n",
    "        time.sleep(0.5)\n",
    "        file.write(chunk)"
   ]
  },
  {
   "cell_type": "code",
   "execution_count": 18,
   "id": "6040eed5-db1d-4a5d-9ac0-70ad62aaad83",
   "metadata": {},
   "outputs": [
    {
     "data": {
      "text/plain": [
       "\u001b[0;31mInit signature:\u001b[0m \u001b[0mtqdm\u001b[0m\u001b[0;34m(\u001b[0m\u001b[0;34m*\u001b[0m\u001b[0m_\u001b[0m\u001b[0;34m,\u001b[0m \u001b[0;34m**\u001b[0m\u001b[0m__\u001b[0m\u001b[0;34m)\u001b[0m\u001b[0;34m\u001b[0m\u001b[0;34m\u001b[0m\u001b[0m\n",
       "\u001b[0;31mDocstring:\u001b[0m     \n",
       "Decorate an iterable object, returning an iterator which acts exactly\n",
       "like the original iterable, but prints a dynamically updating\n",
       "progressbar every time a value is requested.\n",
       "\u001b[0;31mInit docstring:\u001b[0m\n",
       "Parameters\n",
       "----------\n",
       "iterable  : iterable, optional\n",
       "    Iterable to decorate with a progressbar.\n",
       "    Leave blank to manually manage the updates.\n",
       "desc  : str, optional\n",
       "    Prefix for the progressbar.\n",
       "total  : int or float, optional\n",
       "    The number of expected iterations. If unspecified,\n",
       "    len(iterable) is used if possible. If float(\"inf\") or as a last\n",
       "    resort, only basic progress statistics are displayed\n",
       "    (no ETA, no progressbar).\n",
       "    If `gui` is True and this parameter needs subsequent updating,\n",
       "    specify an initial arbitrary large positive number,\n",
       "    e.g. 9e9.\n",
       "leave  : bool, optional\n",
       "    If [default: True], keeps all traces of the progressbar\n",
       "    upon termination of iteration.\n",
       "    If `None`, will leave only if `position` is `0`.\n",
       "file  : `io.TextIOWrapper` or `io.StringIO`, optional\n",
       "    Specifies where to output the progress messages\n",
       "    (default: sys.stderr). Uses `file.write(str)` and `file.flush()`\n",
       "    methods.  For encoding, see `write_bytes`.\n",
       "ncols  : int, optional\n",
       "    The width of the entire output message. If specified,\n",
       "    dynamically resizes the progressbar to stay within this bound.\n",
       "    If unspecified, attempts to use environment width. The\n",
       "    fallback is a meter width of 10 and no limit for the counter and\n",
       "    statistics. If 0, will not print any meter (only stats).\n",
       "mininterval  : float, optional\n",
       "    Minimum progress display update interval [default: 0.1] seconds.\n",
       "maxinterval  : float, optional\n",
       "    Maximum progress display update interval [default: 10] seconds.\n",
       "    Automatically adjusts `miniters` to correspond to `mininterval`\n",
       "    after long display update lag. Only works if `dynamic_miniters`\n",
       "    or monitor thread is enabled.\n",
       "miniters  : int or float, optional\n",
       "    Minimum progress display update interval, in iterations.\n",
       "    If 0 and `dynamic_miniters`, will automatically adjust to equal\n",
       "    `mininterval` (more CPU efficient, good for tight loops).\n",
       "    If > 0, will skip display of specified number of iterations.\n",
       "    Tweak this and `mininterval` to get very efficient loops.\n",
       "    If your progress is erratic with both fast and slow iterations\n",
       "    (network, skipping items, etc) you should set miniters=1.\n",
       "ascii  : bool or str, optional\n",
       "    If unspecified or False, use unicode (smooth blocks) to fill\n",
       "    the meter. The fallback is to use ASCII characters \" 123456789#\".\n",
       "disable  : bool, optional\n",
       "    Whether to disable the entire progressbar wrapper\n",
       "    [default: False]. If set to None, disable on non-TTY.\n",
       "unit  : str, optional\n",
       "    String that will be used to define the unit of each iteration\n",
       "    [default: it].\n",
       "unit_scale  : bool or int or float, optional\n",
       "    If 1 or True, the number of iterations will be reduced/scaled\n",
       "    automatically and a metric prefix following the\n",
       "    International System of Units standard will be added\n",
       "    (kilo, mega, etc.) [default: False]. If any other non-zero\n",
       "    number, will scale `total` and `n`.\n",
       "dynamic_ncols  : bool, optional\n",
       "    If set, constantly alters `ncols` and `nrows` to the\n",
       "    environment (allowing for window resizes) [default: False].\n",
       "smoothing  : float, optional\n",
       "    Exponential moving average smoothing factor for speed estimates\n",
       "    (ignored in GUI mode). Ranges from 0 (average speed) to 1\n",
       "    (current/instantaneous speed) [default: 0.3].\n",
       "bar_format  : str, optional\n",
       "    Specify a custom bar string formatting. May impact performance.\n",
       "    [default: '{l_bar}{bar}{r_bar}'], where\n",
       "    l_bar='{desc}: {percentage:3.0f}%|' and\n",
       "    r_bar='| {n_fmt}/{total_fmt} [{elapsed}<{remaining}, '\n",
       "      '{rate_fmt}{postfix}]'\n",
       "    Possible vars: l_bar, bar, r_bar, n, n_fmt, total, total_fmt,\n",
       "      percentage, elapsed, elapsed_s, ncols, nrows, desc, unit,\n",
       "      rate, rate_fmt, rate_noinv, rate_noinv_fmt,\n",
       "      rate_inv, rate_inv_fmt, postfix, unit_divisor,\n",
       "      remaining, remaining_s, eta.\n",
       "    Note that a trailing \": \" is automatically removed after {desc}\n",
       "    if the latter is empty.\n",
       "initial  : int or float, optional\n",
       "    The initial counter value. Useful when restarting a progress\n",
       "    bar [default: 0]. If using float, consider specifying `{n:.3f}`\n",
       "    or similar in `bar_format`, or specifying `unit_scale`.\n",
       "position  : int, optional\n",
       "    Specify the line offset to print this bar (starting from 0)\n",
       "    Automatic if unspecified.\n",
       "    Useful to manage multiple bars at once (eg, from threads).\n",
       "postfix  : dict or *, optional\n",
       "    Specify additional stats to display at the end of the bar.\n",
       "    Calls `set_postfix(**postfix)` if possible (dict).\n",
       "unit_divisor  : float, optional\n",
       "    [default: 1000], ignored unless `unit_scale` is True.\n",
       "write_bytes  : bool, optional\n",
       "    If (default: None) and `file` is unspecified,\n",
       "    bytes will be written in Python 2. If `True` will also write\n",
       "    bytes. In all other cases will default to unicode.\n",
       "lock_args  : tuple, optional\n",
       "    Passed to `refresh` for intermediate output\n",
       "    (initialisation, iterating, and updating).\n",
       "nrows  : int, optional\n",
       "    The screen height. If specified, hides nested bars outside this\n",
       "    bound. If unspecified, attempts to use environment height.\n",
       "    The fallback is 20.\n",
       "colour  : str, optional\n",
       "    Bar colour (e.g. 'green', '#00ff00').\n",
       "delay  : float, optional\n",
       "    Don't display until [default: 0] seconds have elapsed.\n",
       "gui  : bool, optional\n",
       "    WARNING: internal parameter - do not use.\n",
       "    Use tqdm.gui.tqdm(...) instead. If set, will attempt to use\n",
       "    matplotlib animations for a graphical output [default: False].\n",
       "\n",
       "Returns\n",
       "-------\n",
       "out  : decorated iterator.\n",
       "\u001b[0;31mFile:\u001b[0m           ~/miniforge3/lib/python3.9/site-packages/tqdm/std.py\n",
       "\u001b[0;31mType:\u001b[0m           type\n",
       "\u001b[0;31mSubclasses:\u001b[0m     tqdm_gui\n"
      ]
     },
     "metadata": {},
     "output_type": "display_data"
    }
   ],
   "source": [
    "tqdm?"
   ]
  },
  {
   "cell_type": "code",
   "execution_count": null,
   "id": "7baf72ee-b9b9-4288-b23a-fae0ba1cf83d",
   "metadata": {},
   "outputs": [],
   "source": []
  }
 ],
 "metadata": {
  "kernelspec": {
   "display_name": "Python 3 (ipykernel)",
   "language": "python",
   "name": "python3"
  },
  "language_info": {
   "codemirror_mode": {
    "name": "ipython",
    "version": 3
   },
   "file_extension": ".py",
   "mimetype": "text/x-python",
   "name": "python",
   "nbconvert_exporter": "python",
   "pygments_lexer": "ipython3",
   "version": "3.9.13"
  }
 },
 "nbformat": 4,
 "nbformat_minor": 5
}
