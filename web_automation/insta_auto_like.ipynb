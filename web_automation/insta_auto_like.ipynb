{
 "cells": [
  {
   "cell_type": "code",
   "execution_count": 8,
   "id": "1ea34280-9d23-404a-91f7-a37fb1998340",
   "metadata": {},
   "outputs": [],
   "source": [
    "from selenium import webdriver\n",
    "from webdriver_manager.chrome import ChromeDriverManager\n",
    "from selenium.webdriver.chrome.service import Service as ChromeService\n",
    "from selenium.webdriver.common.keys import Keys\n",
    "from selenium.webdriver.common.by import By\n",
    "from getpass import getpass"
   ]
  },
  {
   "cell_type": "code",
   "execution_count": 9,
   "id": "e08cfdd3-dd84-43fc-9086-331e8995ba2f",
   "metadata": {},
   "outputs": [],
   "source": [
    "chrome = webdriver.Chrome(service=ChromeService(ChromeDriverManager().install()))"
   ]
  },
  {
   "cell_type": "code",
   "execution_count": 12,
   "id": "1955bf9e-404c-415e-a7c1-69d4590dada7",
   "metadata": {},
   "outputs": [],
   "source": [
    "chrome.get(\"https://instagram.com\") #Open instagram website"
   ]
  },
  {
   "cell_type": "code",
   "execution_count": 13,
   "id": "d5a5b97c-7279-48f1-a3f5-35aa13cce458",
   "metadata": {},
   "outputs": [
    {
     "name": "stdin",
     "output_type": "stream",
     "text": [
      " ········\n"
     ]
    }
   ],
   "source": [
    "#find username xpath\n",
    "username = chrome.find_element(By.XPATH, '//*[@id=\"loginForm\"]/div/div[1]/div/label/input')\n",
    "\n",
    "#Enter insta username\n",
    "username.send_keys(\"nikitajare\")\n",
    "\n",
    "#fine pswd xpath\n",
    "password = chrome.find_element(By.XPATH, '//*[@id=\"loginForm\"]/div/div[2]/div/label/input')\n",
    "\n",
    "#Enter Password\n",
    "pswd = getpass()\n",
    "password.send_keys(pswd)\n",
    "\n",
    "#Fine login button xpath\n",
    "login_btn = chrome.find_element(By.XPATH, '//*[@id=\"loginForm\"]/div/div[3]')\n",
    "\n",
    "#Click login button\n",
    "login_btn.click()"
   ]
  },
  {
   "cell_type": "code",
   "execution_count": null,
   "id": "54912056-bc3a-4bb4-8e52-0259e3fc6953",
   "metadata": {},
   "outputs": [],
   "source": [
    "#Find search bar xpath\n",
    "search_bar = chrome.find_element(By.XPATH, '//*[@id=\"mount_0_0_iH\"]/div/div/div/div[1]/div/div/div/div[1]/section/nav/div[2]/div/div/div[2]/div[1]/div/span')\n",
    "\n",
    "#enter search username. This username's profile should be open, or if private should be added to your account.\n",
    "search_bar.send_keys(\"<username>\")\n",
    "time.sleep(3) #sleep for 3 sec to allow time for search\n",
    "\n",
    "search_bar.send_keys(Keys.ENTER) #Press 1st enter to search\n",
    "search_bar.send_keys(Keys.ENTER) #Press 2nd enter to open user page"
   ]
  },
  {
   "cell_type": "code",
   "execution_count": null,
   "id": "4524469f-82b6-4dd9-91e5-2febef3ae91a",
   "metadata": {},
   "outputs": [],
   "source": [
    "#Find first post's xpath and open\n",
    "post = chrome.find_element(By.XPATH, '//*[@id=\"react-root\"]/section/main/div/div[2]/article/div[1]/div/div[1]/div[1]/a/div/div[2]')\n",
    "post.click()\n",
    "\n",
    "#Find like button xpath and press like\n",
    "like_btn = chrome.find_element('/html/body/div[4]/div[2]/div/article/div[2]/section[1]/span[1]/button')\n",
    "like_btn.click()\n",
    "\n",
    "#Find next button xpath and click\n",
    "next_btn = chrome.find_element_by_xpath('/html/body/div[4]/div[1]/div/div/a')\n",
    "next_btn.click()"
   ]
  },
  {
   "cell_type": "code",
   "execution_count": null,
   "id": "fd661f00-ea34-4992-8f90-c653bcada530",
   "metadata": {},
   "outputs": [],
   "source": [
    "#Replace xpaths appropriately\n",
    "\n",
    "#In a loop, continue till all the posts are liked. Sleep on between every like as instagram can detect bots and block your account for liking\n",
    "while True:\n",
    "    try:\n",
    "        like_btn = chrome.find_element_by_xpath('/html/body/div[4]/div[2]/div/article/div[2]/section[1]/span[1]/button')\n",
    "        like_btn.click()\n",
    "        next_btn = chrome.find_element_by_xpath('/html/body/div[4]/div[1]/div/div/a[2]')\n",
    "        next_btn.click()\n",
    "        time.sleep(2)\n",
    "    except:\n",
    "        close_btn = chrome.find_element_by_xpath('/html/body/div[4]/div[3]/button')\n",
    "        close_btn.click()\n",
    "        break"
   ]
  }
 ],
 "metadata": {
  "kernelspec": {
   "display_name": "Python 3 (ipykernel)",
   "language": "python",
   "name": "python3"
  },
  "language_info": {
   "codemirror_mode": {
    "name": "ipython",
    "version": 3
   },
   "file_extension": ".py",
   "mimetype": "text/x-python",
   "name": "python",
   "nbconvert_exporter": "python",
   "pygments_lexer": "ipython3",
   "version": "3.9.13"
  }
 },
 "nbformat": 4,
 "nbformat_minor": 5
}
