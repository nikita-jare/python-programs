{
 "cells": [
  {
   "cell_type": "code",
   "execution_count": 18,
   "id": "a645f6b6-93bb-4997-9120-7bb6dcaf97a4",
   "metadata": {},
   "outputs": [],
   "source": [
    "from selenium import webdriver\n",
    "from selenium.webdriver.common.by import By\n",
    "from webdriver_manager.chrome import ChromeDriverManager\n",
    "from selenium.webdriver.chrome.service import Service as ChromeService\n",
    "import random\n",
    "from selenium.webdriver.common.keys import Keys\n",
    "import time"
   ]
  },
  {
   "cell_type": "code",
   "execution_count": 19,
   "id": "00c37885-5d66-4e62-8032-5ae5240ed6cc",
   "metadata": {},
   "outputs": [],
   "source": [
    "#install chrome webdriver. If already instaled, it looks in cache memory\n",
    "#chrome = webdriver.Chrome(ChromeDriverManager().install())\n",
    "chrome = webdriver.Chrome(service=ChromeService(ChromeDriverManager().install()))\n",
    "time.sleep(2)"
   ]
  },
  {
   "cell_type": "code",
   "execution_count": 20,
   "id": "092c0a94-b541-4e01-9958-4059ccf0f013",
   "metadata": {},
   "outputs": [],
   "source": [
    "#Open following webpage in chrome\n",
    "chrome.get(\"https://web.whatsapp.com\")\n",
    "time.sleep(30) #Allow some time to scan he whatsapp web QR <to be done manually>"
   ]
  },
  {
   "cell_type": "code",
   "execution_count": 21,
   "id": "6de940fe-6321-49c1-b584-b7399c2e57db",
   "metadata": {},
   "outputs": [],
   "source": [
    "search_box = chrome.find_element(By.CLASS_NAME, \"_13NKt\") #search box\n",
    "search_box.send_keys(\"mee\") #name to search\n",
    "search_box.send_keys(Keys.ENTER) #press enter to select first appearance"
   ]
  },
  {
   "cell_type": "code",
   "execution_count": 22,
   "id": "438697d0-026b-4c20-b2b6-0532ca8e08d7",
   "metadata": {},
   "outputs": [],
   "source": [
    "#Text box Xpath\n",
    "message_box = chrome.find_element(By.XPATH, '//*[@id=\"main\"]/footer/div[1]/div/span[2]/div/div[2]/div[1]/div/div[1]/p')\n",
    "#Type a message you want to send\n",
    "message_box.send_keys(\"Hello!!\")\n",
    "message_box.send_keys(Keys.ENTER)"
   ]
  },
  {
   "cell_type": "code",
   "execution_count": 23,
   "id": "4b3345f4-5e63-4431-9a1e-3094362d4b57",
   "metadata": {},
   "outputs": [],
   "source": [
    "#Put your message in for-loop to send it multiple times\n",
    "\n",
    "for i in range(0,30):\n",
    "    message_box = chrome.find_element(By.XPATH, '//*[@id=\"main\"]/footer/div[1]/div/span[2]/div/div[2]/div[1]/div/div[1]/p')\n",
    "    message_box.send_keys(\"That's what she said!!\")\n",
    "    message_box.send_keys(Keys.ENTER)"
   ]
  },
  {
   "cell_type": "code",
   "execution_count": null,
   "id": "e62d7e94-6dbd-40c9-82dc-bc1fa4ea8c6d",
   "metadata": {},
   "outputs": [],
   "source": []
  }
 ],
 "metadata": {
  "kernelspec": {
   "display_name": "Python 3 (ipykernel)",
   "language": "python",
   "name": "python3"
  },
  "language_info": {
   "codemirror_mode": {
    "name": "ipython",
    "version": 3
   },
   "file_extension": ".py",
   "mimetype": "text/x-python",
   "name": "python",
   "nbconvert_exporter": "python",
   "pygments_lexer": "ipython3",
   "version": "3.9.13"
  }
 },
 "nbformat": 4,
 "nbformat_minor": 5
}
